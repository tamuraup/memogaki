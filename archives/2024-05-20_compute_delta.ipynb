{
 "cells": [
  {
   "cell_type": "markdown",
   "id": "e2733ccc-044e-4c4a-9ed2-cc7922dd0481",
   "metadata": {},
   "source": [
    "---\n",
    "title: 音声信号の \"delta\" という特徴量\n",
    "date: \"2024-05-20\"\n",
    "categories: [\"音声\",\"ml\"]\n",
    "---\n",
    "\n",
    "音声信号に `delta` という特徴量があるらしい。\n",
    "[Practical Cryptography](http://practicalcryptography.com/miscellaneous/machine-learning/guide-mel-frequency-cepstral-coefficients-mfccs/#deltas-and-delta-deltas)\n",
    "\n",
    "あまり良くわかっていませんが、各周波数帯での軌跡を特徴量にするイメージでしょうか？\n",
    "各周波数帯のデータと `[1.0] * time` をたたみ込み演算をしたもの特徴量とするようです。\n",
    "\n",
    "kaggle でも過去の上位解法に使用されているようです。[[4-th place solution] Inference and Training tips](https://www.kaggle.com/code/vladimirsydor/4-th-place-solution-inference-and-training-tips)  \n",
    "また torchaudio にも実装されています。[torchaudio.functional.compute\\_deltas — Torchaudio 2.2.0.dev20240520 documentation](https://pytorch.org/audio/main/generated/torchaudio.functional.compute_deltas.html)\n",
    "\n",
    "\n",
    "実装例\n",
    "\n",
    "```python\n",
    "delta_1 = compute_deltas(spectrogram)\n",
    "delta_2 = compute_deltas(delta_1)\n",
    "x = torch.cat([spectrogram, delta_1, delta_2], dim=1)\n",
    "```"
   ]
  },
  {
   "cell_type": "markdown",
   "id": "626db1de-5326-464f-9b6b-5ebfed1e0e51",
   "metadata": {},
   "source": [
    "## 一応演算結果確認しておく"
   ]
  },
  {
   "cell_type": "code",
   "execution_count": 1,
   "id": "3f30cc49-40c2-4dba-a217-e258e8856d73",
   "metadata": {},
   "outputs": [],
   "source": [
    "import numpy as np\n",
    "import torch"
   ]
  },
  {
   "cell_type": "code",
   "execution_count": 2,
   "id": "f3c9a252-6dcd-4cd2-a060-386e3880c965",
   "metadata": {},
   "outputs": [],
   "source": [
    "# kaggle の solution notebook より\n",
    "def compute_deltas(\n",
    "        specgram: torch.Tensor, win_length: int = 5, mode: str = \"replicate\"\n",
    ") -> torch.Tensor:\n",
    "    device = specgram.device\n",
    "    dtype = specgram.dtype\n",
    "\n",
    "    # pack batch\n",
    "    shape = specgram.size()\n",
    "    specgram = specgram.reshape(1, -1, shape[-1])\n",
    "\n",
    "    assert win_length >= 3\n",
    "\n",
    "    n = (win_length - 1) // 2\n",
    "\n",
    "    # twice sum of integer squared\n",
    "    denom = n * (n + 1) * (2 * n + 1) / 3\n",
    "\n",
    "    specgram = torch.nn.functional.pad(specgram, (n, n), mode=mode)\n",
    "\n",
    "    kernel = torch.arange(-n, n + 1, 1, device=device, dtype=dtype).repeat(\n",
    "        specgram.shape[1], 1, 1\n",
    "    )\n",
    "    output = (\n",
    "            torch.nn.functional.conv1d(specgram, kernel, groups=specgram.shape[1]) / denom\n",
    "    )\n",
    "\n",
    "    # unpack batch\n",
    "    output = output.reshape(shape)\n",
    "\n",
    "    return output"
   ]
  },
  {
   "cell_type": "code",
   "execution_count": 3,
   "id": "8c79897a-0c72-43ec-aeb9-548a2f3d1b1a",
   "metadata": {},
   "outputs": [
    {
     "name": "stdout",
     "output_type": "stream",
     "text": [
      "torch.Size([1, 10])\n",
      "tensor([[0.6760, 0.4193, 0.8303, 0.1316, 0.1804, 0.4828, 0.7212, 0.0631, 0.1529,\n",
      "         0.5410]])\n"
     ]
    }
   ],
   "source": [
    "x=torch.rand([1, 10]) # dim (freq, time)\n",
    "print(x.shape)\n",
    "print(x)"
   ]
  },
  {
   "cell_type": "code",
   "execution_count": 4,
   "id": "a2ade3e3-a445-46fb-9db4-19a398cac045",
   "metadata": {},
   "outputs": [
    {
     "name": "stdout",
     "output_type": "stream",
     "text": [
      "torch.Size([1, 10])\n",
      "tensor([[ 0.0052, -0.0934, -0.1279, -0.0523,  0.0133,  0.0404, -0.0475, -0.0452,\n",
      "          0.0117,  0.1344]])\n"
     ]
    }
   ],
   "source": [
    "delta=compute_deltas(x)\n",
    "print(delta.shape)\n",
    "print(delta)"
   ]
  },
  {
   "cell_type": "code",
   "execution_count": 5,
   "id": "71d20aaf-0cf3-47a7-a693-b96f6c47a258",
   "metadata": {},
   "outputs": [],
   "source": [
    "n=2\n",
    "tmp=torch.nn.functional.pad(x, (2, 2), mode='replicate')\n",
    "denom = n * (n + 1) * (2 * n + 1) / 3"
   ]
  },
  {
   "cell_type": "code",
   "execution_count": 6,
   "id": "4126cf77-ad2a-4b1f-8e9a-3d98fbdae9a1",
   "metadata": {},
   "outputs": [
    {
     "name": "stdout",
     "output_type": "stream",
     "text": [
      "tensor(0.0052)\n",
      "tensor(-0.0934)\n",
      "tensor(-0.1279)\n",
      "tensor(-0.0523)\n",
      "tensor(0.0133)\n",
      "tensor(0.0404)\n",
      "tensor(-0.0475)\n",
      "tensor(-0.0452)\n",
      "tensor(0.0117)\n",
      "tensor(0.1344)\n"
     ]
    }
   ],
   "source": [
    "for p in range(n,n+10):\n",
    "    sm=0.0\n",
    "    for i in range(1,n+1):\n",
    "        sm+=(-tmp[0][p-i] +tmp[0][p+i])*i\n",
    "    print(sm/denom)"
   ]
  }
 ],
 "metadata": {
  "kernelspec": {
   "display_name": "Python 3 (ipykernel)",
   "language": "python",
   "name": "python3"
  },
  "language_info": {
   "codemirror_mode": {
    "name": "ipython",
    "version": 3
   },
   "file_extension": ".py",
   "mimetype": "text/x-python",
   "name": "python",
   "nbconvert_exporter": "python",
   "pygments_lexer": "ipython3",
   "version": "3.11.8"
  }
 },
 "nbformat": 4,
 "nbformat_minor": 5
}
