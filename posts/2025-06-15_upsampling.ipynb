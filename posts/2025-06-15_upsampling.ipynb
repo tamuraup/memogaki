{
  "metadata": {
    "kernelspec": {
      "language": "python",
      "display_name": "Python 3",
      "name": "python3"
    },
    "language_info": {
      "name": "python",
      "version": "3.11.11",
      "mimetype": "text/x-python",
      "codemirror_mode": {
        "name": "ipython",
        "version": 3
      },
      "pygments_lexer": "ipython3",
      "nbconvert_exporter": "python",
      "file_extension": ".py"
    },
    "kaggle": {
      "accelerator": "none",
      "dataSources": [],
      "dockerImageVersionId": 31012,
      "isInternetEnabled": true,
      "language": "python",
      "sourceType": "notebook",
      "isGpuEnabled": false
    }
  },
  "nbformat_minor": 4,
  "nbformat": 4,
  "cells": [
    {
      "cell_type": "markdown",
      "source": [
        "---\n",
        "title: アップサンプリング + パディング処理の流れ\n",
        "date: 2025-06-15\n",
        "categories: [ML]\n",
        "---"
      ],
      "metadata": {
        "collapsed": false
      }
    },
    {
      "cell_type": "markdown",
      "source": [
        "## アップサンプリング + パディング処理の流れ\n",
        "\n",
        "### 1. 入力テンソルの準備\n",
        "\n",
        "3次元の NumPy テンソル `x`（形状: `(B, T, C)`）を作成します。  \n",
        "ここではインデックスを使って中身を可視化しやすくしています。\n",
        "\n",
        "---\n",
        "\n",
        "### 2. アップサンプリング処理（ratio倍）\n",
        "\n",
        "`x[:, :, None, :].repeat(1, 1, ratio, 1)` によって、時間軸の各ステップを `ratio` 倍に拡張します。\n",
        "\n",
        "- `x[:, :, None, :]` → 次元を追加して `(B, T, 1, C)`\n",
        "- `.repeat(...)` → `(B, T, ratio, C)` に拡張\n",
        "- `.reshape(B, T * ratio, C)` → 時間軸を1本化\n",
        "\n",
        "結果、時間方向に `T * ratio` 長のテンソルが得られます。\n",
        "\n",
        "---\n",
        "\n",
        "### 3. 足りない分のパディング\n",
        "\n",
        "指定の長さ `frame_size` に満たない場合、**最後のステップの値を複製**して補います。\n",
        "\n",
        "- `y[:, -1:, :]` で最後のフレームを取り出し\n",
        "- `.repeat(...)` で必要数だけ繰り返し\n",
        "- `torch.cat([y, padding], dim=1)` で結合\n",
        "\n",
        "長さがすでに `frame_size` 以上なら、先頭から `frame_size` 分だけを切り出します。\n",
        "\n",
        "---\n",
        "\n",
        "### 最終出力\n",
        "\n",
        "この処理で、任意の入力テンソルを：\n",
        "\n",
        "- **指定の時間長 (`frame_size`) に統一**\n",
        "- **滑らかに拡張しつつ、端は自然に補完**\n",
        "\n",
        "することができます。\n",
        "\n",
        "---\n",
        "\n",
        "**用途の例**:\n",
        "- 音声や動画の時系列データ整形\n",
        "- Transformer 系への入力前の整形\n",
        "- ラベル付きデータのアライメント補正\n",
        "\n",
        "---\n"
      ],
      "metadata": {}
    },
    {
      "cell_type": "code",
      "source": [
        "import numpy as np\n",
        "import torch"
      ],
      "metadata": {
        "trusted": true
      },
      "outputs": [],
      "execution_count": 22
    },
    {
      "cell_type": "code",
      "source": [
        "# セル 2: パラメータと元データ作成\n",
        "B, T, C = 2, 3, 4  # バッチサイズ、時間長、チャネル数\n",
        "ratio = 3         # アップサンプリング倍率\n",
        "frame_size = 11          # 最終的な長さにしたいサイズ\n",
        "\n",
        "# 見やすいようにインデックス付きデータを作成\n",
        "x = torch.arange(B * T * C).reshape(B, T, C)\n",
        "print(\"元のxの shape:\", x.shape)\n",
        "print(x)"
      ],
      "metadata": {
        "trusted": true,
        "execution": {
          "iopub.status.busy": "2025-04-30T05:44:12.250896Z",
          "iopub.execute_input": "2025-04-30T05:44:12.251229Z",
          "iopub.status.idle": "2025-04-30T05:44:12.265254Z",
          "shell.execute_reply.started": "2025-04-30T05:44:12.251205Z",
          "shell.execute_reply": "2025-04-30T05:44:12.264235Z"
        }
      },
      "outputs": [
        {
          "name": "stdout",
          "text": "元のxの shape: torch.Size([2, 3, 4])\ntensor([[[ 0,  1,  2,  3],\n         [ 4,  5,  6,  7],\n         [ 8,  9, 10, 11]],\n\n        [[12, 13, 14, 15],\n         [16, 17, 18, 19],\n         [20, 21, 22, 23]]])\n",
          "output_type": "stream"
        }
      ],
      "execution_count": 27
    },
    {
      "cell_type": "code",
      "source": [
        "# セル 3: ratio 倍に拡張（アップサンプリング）\n",
        "x_expanded = x[:, :, None, :].repeat(1, 1, ratio, 1)\n",
        "print(\"拡張後の shape:\", x_expanded.shape)\n",
        "print(x_expanded)"
      ],
      "metadata": {
        "trusted": true,
        "execution": {
          "iopub.status.busy": "2025-04-30T05:45:33.725856Z",
          "iopub.execute_input": "2025-04-30T05:45:33.726164Z",
          "iopub.status.idle": "2025-04-30T05:45:33.733650Z",
          "shell.execute_reply.started": "2025-04-30T05:45:33.726145Z",
          "shell.execute_reply": "2025-04-30T05:45:33.732506Z"
        }
      },
      "outputs": [
        {
          "name": "stdout",
          "text": "拡張後の shape: torch.Size([2, 3, 3, 4])\ntensor([[[[ 0,  1,  2,  3],\n          [ 0,  1,  2,  3],\n          [ 0,  1,  2,  3]],\n\n         [[ 4,  5,  6,  7],\n          [ 4,  5,  6,  7],\n          [ 4,  5,  6,  7]],\n\n         [[ 8,  9, 10, 11],\n          [ 8,  9, 10, 11],\n          [ 8,  9, 10, 11]]],\n\n\n        [[[12, 13, 14, 15],\n          [12, 13, 14, 15],\n          [12, 13, 14, 15]],\n\n         [[16, 17, 18, 19],\n          [16, 17, 18, 19],\n          [16, 17, 18, 19]],\n\n         [[20, 21, 22, 23],\n          [20, 21, 22, 23],\n          [20, 21, 22, 23]]]])\n",
          "output_type": "stream"
        }
      ],
      "execution_count": 29
    },
    {
      "cell_type": "code",
      "source": [
        "# セル 4: reshape して時間方向を1本化\n",
        "x_reshaped = x_expanded.reshape(B, T * ratio, C)\n",
        "print(\"reshape後の shape:\", x_reshaped.shape)\n",
        "print(x_reshaped)"
      ],
      "metadata": {
        "trusted": true,
        "execution": {
          "iopub.status.busy": "2025-04-30T05:46:09.613587Z",
          "iopub.execute_input": "2025-04-30T05:46:09.613895Z",
          "iopub.status.idle": "2025-04-30T05:46:09.621259Z",
          "shell.execute_reply.started": "2025-04-30T05:46:09.613862Z",
          "shell.execute_reply": "2025-04-30T05:46:09.620265Z"
        }
      },
      "outputs": [
        {
          "name": "stdout",
          "text": "reshape後の shape: torch.Size([2, 9, 4])\ntensor([[[ 0,  1,  2,  3],\n         [ 0,  1,  2,  3],\n         [ 0,  1,  2,  3],\n         [ 4,  5,  6,  7],\n         [ 4,  5,  6,  7],\n         [ 4,  5,  6,  7],\n         [ 8,  9, 10, 11],\n         [ 8,  9, 10, 11],\n         [ 8,  9, 10, 11]],\n\n        [[12, 13, 14, 15],\n         [12, 13, 14, 15],\n         [12, 13, 14, 15],\n         [16, 17, 18, 19],\n         [16, 17, 18, 19],\n         [16, 17, 18, 19],\n         [20, 21, 22, 23],\n         [20, 21, 22, 23],\n         [20, 21, 22, 23]]])\n",
          "output_type": "stream"
        }
      ],
      "execution_count": 30
    },
    {
      "cell_type": "code",
      "source": [
        "# セル 5: PyTorchテンソルに変換して padding 処理\n",
        "y = x_reshaped\n",
        "\n",
        "# 足りない長さを補う（最後のステップを複製）\n",
        "if y.shape[1] < frame_size:\n",
        "    padding = y[:, -1:, :].repeat(1, frame_size - y.shape[1], 1)\n",
        "    y_padded = torch.cat([y, padding], dim=1)\n",
        "else:\n",
        "    y_padded = y[:, :frame_size, :]  # もし長すぎたら切り詰める\n",
        "\n",
        "print(\"最終 y_padded の shape:\", y_padded.shape)\n",
        "print(y_padded)"
      ],
      "metadata": {
        "trusted": true,
        "execution": {
          "iopub.status.busy": "2025-04-30T05:46:28.550763Z",
          "iopub.execute_input": "2025-04-30T05:46:28.551109Z",
          "iopub.status.idle": "2025-04-30T05:46:28.563001Z",
          "shell.execute_reply.started": "2025-04-30T05:46:28.551082Z",
          "shell.execute_reply": "2025-04-30T05:46:28.561709Z"
        }
      },
      "outputs": [
        {
          "name": "stdout",
          "text": "最終 y_padded の shape: torch.Size([2, 11, 4])\ntensor([[[ 0,  1,  2,  3],\n         [ 0,  1,  2,  3],\n         [ 0,  1,  2,  3],\n         [ 4,  5,  6,  7],\n         [ 4,  5,  6,  7],\n         [ 4,  5,  6,  7],\n         [ 8,  9, 10, 11],\n         [ 8,  9, 10, 11],\n         [ 8,  9, 10, 11],\n         [ 8,  9, 10, 11],\n         [ 8,  9, 10, 11]],\n\n        [[12, 13, 14, 15],\n         [12, 13, 14, 15],\n         [12, 13, 14, 15],\n         [16, 17, 18, 19],\n         [16, 17, 18, 19],\n         [16, 17, 18, 19],\n         [20, 21, 22, 23],\n         [20, 21, 22, 23],\n         [20, 21, 22, 23],\n         [20, 21, 22, 23],\n         [20, 21, 22, 23]]])\n",
          "output_type": "stream"
        }
      ],
      "execution_count": 31
    },
    {
      "cell_type": "code",
      "source": [],
      "metadata": {
        "trusted": true
      },
      "outputs": [],
      "execution_count": null
    }
  ]
}
